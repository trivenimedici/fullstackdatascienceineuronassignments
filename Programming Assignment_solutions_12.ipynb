{
 "cells": [
  {
   "cell_type": "markdown",
   "id": "liberal-account",
   "metadata": {},
   "source": [
    "<b>Number 1 - \n",
    "- Question -\n",
    "    \n",
    "> Write a Python program to Extract Unique values dictionary values?\n",
    "\n",
    "- Answer -\n",
    "    \n",
    ">"
   ]
  },
  {
   "cell_type": "code",
   "execution_count": 3,
   "id": "ded0f1e9",
   "metadata": {},
   "outputs": [
    {
     "data": {
      "text/plain": [
       "[1, 2, 4, 5, 7, 12, 54, 333, 434]"
      ]
     },
     "execution_count": 3,
     "metadata": {},
     "output_type": "execute_result"
    }
   ],
   "source": [
    "dic = {'key1':[1,2,4,4,7,12,5],'key2':[12,434,333,54],'key3':[12,434,333,54]}\n",
    "res=list(sorted({ele for val in dic.values() for ele in val}))\n",
    "res"
   ]
  },
  {
   "cell_type": "markdown",
   "id": "sharing-council",
   "metadata": {},
   "source": [
    "<b>Number 2 - \n",
    "- Question -\n",
    "    \n",
    "> Write a Python program to find the sum of all items in a dictionary?\n",
    "\n",
    "- Answer -\n",
    "    \n",
    "> "
   ]
  },
  {
   "cell_type": "code",
   "execution_count": 5,
   "id": "a074fa43",
   "metadata": {},
   "outputs": [
    {
     "data": {
      "text/plain": [
       "600"
      ]
     },
     "execution_count": 5,
     "metadata": {},
     "output_type": "execute_result"
    }
   ],
   "source": [
    "def sum_all_items(dic):\n",
    "    list = []\n",
    "    for i in dic:\n",
    "        list.append(dic[i])\n",
    "    final = sum(list)\n",
    "    return final\n",
    "\n",
    "dic={'key1':100,'key2':200,'key3':300}\n",
    "sum_all_items(dic)"
   ]
  },
  {
   "cell_type": "markdown",
   "id": "acute-talent",
   "metadata": {},
   "source": [
    "<b>Number 3 - \n",
    "- Question -\n",
    "    \n",
    "> Write a Python program to Merging two Dictionaries?\n",
    "    \n",
    "    \n",
    "- Answer -\n",
    "    \n",
    ">\n"
   ]
  },
  {
   "cell_type": "code",
   "execution_count": 7,
   "id": "c837a88b",
   "metadata": {},
   "outputs": [
    {
     "name": "stdout",
     "output_type": "stream",
     "text": [
      "{'key1': 100, 'key2': 200, 'key3': 300, 's': 4, 'g': 3, 't': 6}\n"
     ]
    }
   ],
   "source": [
    "dic1={'key1':100,'key2':200,'key3':300}\n",
    "dic2={'s':4,'g':3,'t':6}\n",
    "print(dic1 | dic2)"
   ]
  },
  {
   "cell_type": "markdown",
   "id": "outdoor-setup",
   "metadata": {},
   "source": [
    "<b>Number 4 - \n",
    "- Question -\n",
    "    \n",
    "> Write a Python program to convert key-values list to flat dictionary?\n",
    "\n",
    "- Answer -\n",
    "    \n",
    ">\n"
   ]
  },
  {
   "cell_type": "code",
   "execution_count": 13,
   "id": "c61826c6",
   "metadata": {},
   "outputs": [
    {
     "name": "stdout",
     "output_type": "stream",
     "text": [
      "Flattened dictionary : {1: 1, 0: 2, 3: 5}\n"
     ]
    }
   ],
   "source": [
    "dic={'key1':[1,0,3],'key2':[1,2,5]}\n",
    "x=list(dic.values())\n",
    "a=x[0]\n",
    "b=x[1]\n",
    "d=dict()\n",
    "for i in range(0,len(a)):\n",
    "    d[a[i]]=b[i]\n",
    "print(\"Flattened dictionary : \" + str(d))"
   ]
  },
  {
   "cell_type": "markdown",
   "id": "caring-viewer",
   "metadata": {},
   "source": [
    "<b>Number 5 - \n",
    "- Question -\n",
    "    \n",
    "> Write a Python program to insertion at the beginning in OrderedDict?\n",
    "\n",
    "- Answer -\n",
    "    \n",
    ">\n"
   ]
  },
  {
   "cell_type": "code",
   "execution_count": 15,
   "id": "f72a9140",
   "metadata": {},
   "outputs": [
    {
     "data": {
      "text/plain": [
       "OrderedDict([('testthree', '3'), ('testone', '1'), ('testtwo', '2')])"
      ]
     },
     "execution_count": 15,
     "metadata": {},
     "output_type": "execute_result"
    }
   ],
   "source": [
    "from collections import OrderedDict\n",
    "iniordered_dict = OrderedDict([('testone', '1'), ('testtwo', '2')])\n",
    "iniordered_dict.update({'testthree':'3'})\n",
    "iniordered_dict.move_to_end('testthree', last = False)\n",
    "iniordered_dict\n"
   ]
  },
  {
   "cell_type": "markdown",
   "id": "be458a27",
   "metadata": {},
   "source": [
    "<b>Number 6 - \n",
    "- Question -\n",
    "    \n",
    "> Write a Python program to check order of character in string using OrderedDict()?\n",
    "\n",
    "- Answer -\n",
    "    \n",
    ">\n"
   ]
  },
  {
   "cell_type": "code",
   "execution_count": 17,
   "id": "ee881978",
   "metadata": {},
   "outputs": [
    {
     "name": "stdout",
     "output_type": "stream",
     "text": [
      "The string is \n",
      "order validation\n",
      "The input pattern is \n",
      "va\n",
      "The order of pattern is correct\n"
     ]
    }
   ],
   "source": [
    "from collections import OrderedDict \n",
    "def check_order(my_input, my_pattern):\n",
    "   my_dict = OrderedDict.fromkeys(my_input)\n",
    "   pattern_length = 0\n",
    "   for key,value in my_dict.items():\n",
    "      if (key == my_pattern[pattern_length]):\n",
    "         pattern_length = pattern_length + 1\n",
    "\n",
    "      if (pattern_length == (len(my_pattern))):\n",
    "         return 'The order of pattern is correct'\n",
    "\n",
    "   return 'The order of pattern is incorrect'\n",
    "\n",
    "my_input = 'order validation'\n",
    "input_pattern = 'va'\n",
    "print(\"The string is \")\n",
    "print(my_input)\n",
    "print(\"The input pattern is \")\n",
    "print(input_pattern)\n",
    "print(check_order(my_input,input_pattern))"
   ]
  },
  {
   "cell_type": "markdown",
   "id": "ab971a2d",
   "metadata": {},
   "source": [
    "<b>Number 7 - \n",
    "- Question -\n",
    "    \n",
    "> Write a Python program to sort Python Dictionaries by Key or Value?\n",
    "\n",
    "- Answer -\n",
    "    \n",
    ">\n"
   ]
  },
  {
   "cell_type": "code",
   "execution_count": 24,
   "id": "ec767add",
   "metadata": {},
   "outputs": [
    {
     "name": "stdout",
     "output_type": "stream",
     "text": [
      "dsfs: 200\n",
      "fdsgdg: 900\n",
      "fsdfs: 250\n"
     ]
    }
   ],
   "source": [
    "#sort by key\n",
    "dic={'fdsgdg':900,'dsfs':200,'fsdfs':250}\n",
    "\n",
    "for key in sorted(dic):\n",
    "    print(\"%s: %s\" % (key, dic[key]))"
   ]
  },
  {
   "cell_type": "code",
   "execution_count": 26,
   "id": "26c5d399",
   "metadata": {},
   "outputs": [
    {
     "data": {
      "text/plain": [
       "[200, 250, 900]"
      ]
     },
     "execution_count": 26,
     "metadata": {},
     "output_type": "execute_result"
    }
   ],
   "source": [
    "#sort by value\n",
    "dic={'fdsgdg':900,'dsfs':200,'fsdfs':250}\n",
    "sorted_dt_value = sorted(dic.values())\n",
    "sorted_dt_value"
   ]
  }
 ],
 "metadata": {
  "kernelspec": {
   "display_name": "Python 3 (ipykernel)",
   "language": "python",
   "name": "python3"
  },
  "language_info": {
   "codemirror_mode": {
    "name": "ipython",
    "version": 3
   },
   "file_extension": ".py",
   "mimetype": "text/x-python",
   "name": "python",
   "nbconvert_exporter": "python",
   "pygments_lexer": "ipython3",
   "version": "3.10.4"
  },
  "toc": {
   "base_numbering": 1,
   "nav_menu": {},
   "number_sections": true,
   "sideBar": true,
   "skip_h1_title": false,
   "title_cell": "Table of Contents",
   "title_sidebar": "Contents",
   "toc_cell": false,
   "toc_position": {},
   "toc_section_display": true,
   "toc_window_display": false
  }
 },
 "nbformat": 4,
 "nbformat_minor": 5
}
