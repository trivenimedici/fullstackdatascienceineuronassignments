{
 "cells": [
  {
   "cell_type": "markdown",
   "id": "9cc64a46",
   "metadata": {},
   "source": [
    "1. Write a function that takes a list of lists and returns the value of all of the\n",
    "symbols in it, where each symbol adds or takes something from the total\n",
    "score. Symbol values:\n",
    "\n"
   ]
  },
  {
   "cell_type": "code",
   "execution_count": 21,
   "id": "52faf44e",
   "metadata": {},
   "outputs": [
    {
     "data": {
      "text/plain": [
       "2"
      ]
     },
     "execution_count": 21,
     "metadata": {},
     "output_type": "execute_result"
    }
   ],
   "source": [
    "\n",
    "def check_score(input):\n",
    "    sum=0\n",
    "    get_score =  {'#':5, 'O' : 3, 'X' : 1, '!' : -1, '!!': -3, '!!!' : -5}\n",
    "    for i in input:\n",
    "        for j in i:\n",
    "            sum+=int(get_score[j])\n",
    "    if sum <0:\n",
    "        return 0\n",
    "    else:\n",
    "        return sum\n",
    "    \n",
    "check_score([['#','!'],['!!','X']])\n",
    "       \n",
    "            "
   ]
  },
  {
   "cell_type": "code",
   "execution_count": 22,
   "id": "8005e2ce",
   "metadata": {},
   "outputs": [
    {
     "data": {
      "text/plain": [
       "0"
      ]
     },
     "execution_count": 22,
     "metadata": {},
     "output_type": "execute_result"
    }
   ],
   "source": [
    "check_score([['!!!','O','!'],['X','#','!!!'],['!!','X','O']])    "
   ]
  },
  {
   "cell_type": "markdown",
   "id": "cdac9ef6",
   "metadata": {},
   "source": [
    "Create a function that takes a variable number of arguments, each\n",
    "argument representing the number of items in a group, and returns the\n",
    "number of permutations (combinations) of items that you could get by taking\n",
    "one item from each group."
   ]
  },
  {
   "cell_type": "code",
   "execution_count": 7,
   "id": "f8189d5c",
   "metadata": {},
   "outputs": [
    {
     "data": {
      "text/plain": [
       "6"
      ]
     },
     "execution_count": 7,
     "metadata": {},
     "output_type": "execute_result"
    }
   ],
   "source": [
    "def permutations(*argv):\n",
    "    count=1\n",
    "    for arg in argv:\n",
    "        count*=arg\n",
    "    return count\n",
    "\n",
    "permutations(2,3)\n",
    "        "
   ]
  },
  {
   "cell_type": "code",
   "execution_count": 8,
   "id": "d943eb80",
   "metadata": {},
   "outputs": [
    {
     "data": {
      "text/plain": [
       "84"
      ]
     },
     "execution_count": 8,
     "metadata": {},
     "output_type": "execute_result"
    }
   ],
   "source": [
    "permutations(3,7,4)"
   ]
  },
  {
   "cell_type": "code",
   "execution_count": 9,
   "id": "c023d11f",
   "metadata": {},
   "outputs": [
    {
     "data": {
      "text/plain": [
       "120"
      ]
     },
     "execution_count": 9,
     "metadata": {},
     "output_type": "execute_result"
    }
   ],
   "source": [
    "permutations(2,3,4,5)"
   ]
  },
  {
   "cell_type": "markdown",
   "id": "a98ddf32",
   "metadata": {},
   "source": [
    "3. Create a function that takes a string as an argument and returns the Morse\n",
    "code equivalent."
   ]
  },
  {
   "cell_type": "code",
   "execution_count": 13,
   "id": "1bad78e3",
   "metadata": {},
   "outputs": [
    {
     "data": {
      "text/plain": [
       "'. -.. .- -... -... .. -   -.-. .... .- .-.. .-.. . -. --. .'"
      ]
     },
     "execution_count": 13,
     "metadata": {},
     "output_type": "execute_result"
    }
   ],
   "source": [
    "char_to_dots = {\n",
    "  'A': '.-', 'B': '-...', 'C': '-.-.', 'D': '-..', 'E': '.', 'F': '..-.',\n",
    "  'G': '--.', 'H': '....', 'I': '..', 'J': '.---', 'K': '-.-', 'L': '.-..',\n",
    "  'M': '--', 'N': '-.', 'O': '---', 'P': '.--.', 'Q': '--.-', 'R': '.-.',\n",
    "  'S': '...', 'T': '-', 'U': '..-', 'V': '...-', 'W': '.--', 'X': '-..-',\n",
    "  'Y': '-.--', 'Z': '--..', ' ': ' ', '0': '-----',\n",
    "  '1': '.----', '2': '..---', '3': '...--', '4': '....-', '5': '.....',\n",
    "  '6': '-....', '7': '--...', '8': '---..', '9': '----.',\n",
    "  '&': '.-...', \"'\": '.----.', '@': '.--.-.', ')': '-.--.-', '(': '-.--.',\n",
    "  ':': '---...', ',': '--..--', '=': '-...-', '!': '-.-.--', '.': '.-.-.-',\n",
    "  '-': '-....-', '+': '.-.-.', '\"': '.-..-.', '?': '..--..', '/': '-..-.'\n",
    "}\n",
    "\n",
    "def encode_morse(str):\n",
    "    rs=[]\n",
    "    global char_to_dots\n",
    "    char_to_dots = {k.lower(): v\n",
    "                    for k, v in char_to_dots.items()}\n",
    "    for w in str.lower():\n",
    "        for c in w:\n",
    "            if c in char_to_dots:\n",
    "                rs.append(char_to_dots[c])\n",
    "    return ' '.join(rs)\n",
    "                \n",
    "        \n",
    "encode_morse(\"EDABBIT CHALLENGE\")"
   ]
  },
  {
   "cell_type": "code",
   "execution_count": 15,
   "id": "6556f474",
   "metadata": {},
   "outputs": [
    {
     "data": {
      "text/plain": [
       "'.... . .-.. .--.   -- . -.-.--'"
      ]
     },
     "execution_count": 15,
     "metadata": {},
     "output_type": "execute_result"
    }
   ],
   "source": [
    "encode_morse(\"HELP ME!\")"
   ]
  },
  {
   "cell_type": "markdown",
   "id": "1acff9b1",
   "metadata": {},
   "source": [
    "Write a function that takes a number and returns True if it&#39;s a prime; False\n",
    "otherwise. The number can be 2^64-1 (2 to the power of 63, not XOR). With\n",
    "the standard technique it would be O(2^64-1), which is much too large for the\n",
    "10 second time limit."
   ]
  },
  {
   "cell_type": "code",
   "execution_count": 16,
   "id": "56dfdf2e",
   "metadata": {},
   "outputs": [
    {
     "data": {
      "text/plain": [
       "True"
      ]
     },
     "execution_count": 16,
     "metadata": {},
     "output_type": "execute_result"
    }
   ],
   "source": [
    "def prime(num):\n",
    "    if(num==1):\n",
    "        return False\n",
    "    elif num==2:\n",
    "        return True\n",
    "    else:\n",
    "        for x in range(2,num):\n",
    "            if(num%x==0):\n",
    "                return False\n",
    "        return True\n",
    "\n",
    "prime(7)"
   ]
  },
  {
   "cell_type": "code",
   "execution_count": 17,
   "id": "67926c69",
   "metadata": {},
   "outputs": [
    {
     "data": {
      "text/plain": [
       "True"
      ]
     },
     "execution_count": 17,
     "metadata": {},
     "output_type": "execute_result"
    }
   ],
   "source": [
    "prime(56963)"
   ]
  },
  {
   "cell_type": "code",
   "execution_count": 18,
   "id": "f75120dd",
   "metadata": {},
   "outputs": [
    {
     "data": {
      "text/plain": [
       "False"
      ]
     },
     "execution_count": 18,
     "metadata": {},
     "output_type": "execute_result"
    }
   ],
   "source": [
    "prime(5151512515524)"
   ]
  },
  {
   "cell_type": "markdown",
   "id": "3489cb8c",
   "metadata": {},
   "source": [
    "Create a function that converts a word to a bitstring and then to a boolean\n",
    "list based on the following criteria:\n",
    "1. Locate the position of the letter in the English alphabet (from 1 to 26).\n",
    "2. Odd positions will be represented as 1 and 0 otherwise.\n",
    "3. Convert the represented positions to boolean values, 1 for True and 0\n",
    "for False.\n",
    "4. Store the conversions into an array."
   ]
  },
  {
   "cell_type": "code",
   "execution_count": 26,
   "id": "74db8565",
   "metadata": {},
   "outputs": [],
   "source": [
    "def to_boolean_list(a):\n",
    "    aplhabet_position={\"a\":1,'b':0,'c':1,\"d\":0,\"e\":1,\"f\":0,\"g\":1,\"h\":0,\"i\":1,\"j\":0,\"k\":1,\"l\":0,'m':1,\"n\":0,\"o\":1,\"p\":0,\"q\":1,\"r\":0,\"s\":1,\"t\":0,\"u\":1,\"v\":0,\"w\":1,\"x\":0,\"y\":1,\"z\":0 }\n",
    "    x=[]\n",
    "    for i in a:\n",
    "        for j in aplhabet_position.keys():\n",
    "            if i==j:\n",
    "                d = aplhabet_position.get(j)\n",
    "                x.append(d)\n",
    "    l1 = []            \n",
    "    for i in x:\n",
    "        if i == 1:\n",
    "            l1.append(True)\n",
    "        else:\n",
    "            l1.append(False)\n",
    "    print(l1)\n",
    "                \n",
    "            "
   ]
  },
  {
   "cell_type": "code",
   "execution_count": 27,
   "id": "5ccd3d44",
   "metadata": {},
   "outputs": [
    {
     "name": "stdout",
     "output_type": "stream",
     "text": [
      "[False, True, True, False]\n"
     ]
    }
   ],
   "source": [
    "to_boolean_list(\"deep\")"
   ]
  },
  {
   "cell_type": "code",
   "execution_count": 28,
   "id": "8a503828",
   "metadata": {},
   "outputs": [
    {
     "name": "stdout",
     "output_type": "stream",
     "text": [
      "[False, True, False, True, True]\n"
     ]
    }
   ],
   "source": [
    "to_boolean_list(\"loves\")"
   ]
  },
  {
   "cell_type": "code",
   "execution_count": 29,
   "id": "970ae460",
   "metadata": {},
   "outputs": [
    {
     "name": "stdout",
     "output_type": "stream",
     "text": [
      "[False, True, True, False]\n"
     ]
    }
   ],
   "source": [
    "to_boolean_list(\"tesh\")"
   ]
  }
 ],
 "metadata": {
  "kernelspec": {
   "display_name": "Python 3 (ipykernel)",
   "language": "python",
   "name": "python3"
  },
  "language_info": {
   "codemirror_mode": {
    "name": "ipython",
    "version": 3
   },
   "file_extension": ".py",
   "mimetype": "text/x-python",
   "name": "python",
   "nbconvert_exporter": "python",
   "pygments_lexer": "ipython3",
   "version": "3.10.4"
  }
 },
 "nbformat": 4,
 "nbformat_minor": 5
}
