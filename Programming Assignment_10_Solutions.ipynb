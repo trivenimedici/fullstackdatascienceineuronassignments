{
 "cells": [
  {
   "cell_type": "markdown",
   "id": "liberal-account",
   "metadata": {},
   "source": [
    "<b>Number 1 - \n",
    "- Question -\n",
    "    \n",
    "> Write a Python program to find sum of elements in list?\n",
    "\n",
    "- Answer -\n",
    "    \n",
    ">\n",
    "\n",
    "    \n"
   ]
  },
  {
   "cell_type": "code",
   "execution_count": 7,
   "id": "3560c3ae",
   "metadata": {},
   "outputs": [
    {
     "name": "stdout",
     "output_type": "stream",
     "text": [
      "74\n"
     ]
    }
   ],
   "source": [
    "def sum_of_elements(lst):\n",
    "    sum=0\n",
    "    for ele in range(0, len(lst)):\n",
    "        sum = sum + lst[ele]\n",
    "    print(sum)\n",
    "lst = [11, 5, 17, 18, 23]\n",
    "sum_of_elements(lst)"
   ]
  },
  {
   "cell_type": "markdown",
   "id": "sharing-council",
   "metadata": {},
   "source": [
    "<b>Number 2 - \n",
    "- Question -\n",
    "    \n",
    "> Write a Python program to Multiply all numbers in the list?\n",
    "\n",
    "- Answer -\n",
    "    \n",
    ">\n",
    "\n"
   ]
  },
  {
   "cell_type": "code",
   "execution_count": 10,
   "id": "5eeec41f",
   "metadata": {},
   "outputs": [
    {
     "name": "stdout",
     "output_type": "stream",
     "text": [
      "387090\n"
     ]
    }
   ],
   "source": [
    "def multiplication_of_elements(lst):\n",
    "    rst=1\n",
    "    for x in lst:\n",
    "        rst = rst * x\n",
    "    print(rst)\n",
    "lst = [11, 5, 17, 18, 23]\n",
    "multiplication_of_elements(lst)"
   ]
  },
  {
   "cell_type": "markdown",
   "id": "acute-talent",
   "metadata": {},
   "source": [
    "<b>Number 3 - \n",
    "- Question -\n",
    "    \n",
    "> Write a Python program to find smallest number in a list?\n",
    "\n",
    "- Answer -\n",
    "    \n",
    ">\n",
    "\n",
    "    \n"
   ]
  },
  {
   "cell_type": "code",
   "execution_count": 11,
   "id": "8c339451",
   "metadata": {},
   "outputs": [
    {
     "name": "stdout",
     "output_type": "stream",
     "text": [
      "smallest number is  5\n"
     ]
    }
   ],
   "source": [
    "def smallest_number(lst):\n",
    "    lst.sort()\n",
    "    print('smallest number is ',lst[0])\n",
    "lst = [11, 5, 17, 18, 23]\n",
    "smallest_number(lst)"
   ]
  },
  {
   "cell_type": "markdown",
   "id": "outdoor-setup",
   "metadata": {},
   "source": [
    "<b>Number 4 - \n",
    "- Question -\n",
    "    \n",
    "> Write a Python program to find largest number in a list?\n",
    "\n",
    "- Answer -\n",
    "    \n",
    ">\n",
    "\n",
    "    \n"
   ]
  },
  {
   "cell_type": "code",
   "execution_count": 12,
   "id": "bcfbcd55",
   "metadata": {},
   "outputs": [
    {
     "name": "stdout",
     "output_type": "stream",
     "text": [
      "largest number is  23\n"
     ]
    }
   ],
   "source": [
    "def largest_number(lst):\n",
    "    lst.sort()\n",
    "    print('largest number is ',lst[-1])\n",
    "lst = [11, 5, 17, 18, 23]\n",
    "largest_number(lst)"
   ]
  },
  {
   "cell_type": "markdown",
   "id": "caring-viewer",
   "metadata": {},
   "source": [
    "<b>Number 5 - \n",
    "- Question -\n",
    "    \n",
    "> Write a Python program to find second largest number in a list?\n",
    "\n",
    "- Answer -\n",
    "    \n",
    ">\n",
    "\n",
    "    \n"
   ]
  },
  {
   "cell_type": "code",
   "execution_count": 13,
   "id": "dba7b8dc",
   "metadata": {},
   "outputs": [
    {
     "name": "stdout",
     "output_type": "stream",
     "text": [
      "second largest number is  18\n"
     ]
    }
   ],
   "source": [
    "def second_largest_number(lst):\n",
    "    lst.sort()\n",
    "    print('second largest number is ',lst[-2])\n",
    "lst = [11, 5, 17, 18, 23]\n",
    "second_largest_number(lst)"
   ]
  },
  {
   "cell_type": "markdown",
   "id": "complimentary-cabinet",
   "metadata": {},
   "source": [
    "<b>Number 6 - \n",
    "- Question -\n",
    "    \n",
    "> Write a Python program to find N largest elements from a list?\n",
    "\n",
    "- Answer -\n",
    "    \n",
    ">\n",
    "\n"
   ]
  },
  {
   "cell_type": "code",
   "execution_count": 15,
   "id": "19323257",
   "metadata": {},
   "outputs": [
    {
     "name": "stdout",
     "output_type": "stream",
     "text": [
      "second largest number is  18\n"
     ]
    }
   ],
   "source": [
    "def n_largest_number(lst,n):\n",
    "    lst.sort()\n",
    "    print('second largest number is ',lst[-n])\n",
    "lst = [11, 5, 17, 18, 23]\n",
    "n=2\n",
    "n_largest_number(lst,n)"
   ]
  },
  {
   "cell_type": "markdown",
   "id": "special-graduation",
   "metadata": {},
   "source": [
    "<b>Number 7 - \n",
    "- Question -\n",
    "    \n",
    "> Write a Python program to print even numbers in a list?\n",
    "\n",
    "- Answer -\n",
    "    \n",
    ">\n",
    "\n",
    "    \n"
   ]
  },
  {
   "cell_type": "code",
   "execution_count": 17,
   "id": "0a85e475",
   "metadata": {},
   "outputs": [
    {
     "name": "stdout",
     "output_type": "stream",
     "text": [
      "18 "
     ]
    }
   ],
   "source": [
    "def even_number_list(lst):\n",
    "    for num in lst:\n",
    "        if num%2==0:\n",
    "            print(num,end=\" \")\n",
    "lst = [11, 5, 17, 18, 23]\n",
    "even_number_list(lst)"
   ]
  },
  {
   "cell_type": "markdown",
   "id": "ffd064fe",
   "metadata": {},
   "source": [
    "<b>Number 8 - \n",
    "- Question -\n",
    "    \n",
    "> Write a Python program to print odd numbers in a List?\n",
    "\n",
    "- Answer -\n",
    "    \n",
    ">\n",
    "\n",
    "    \n"
   ]
  },
  {
   "cell_type": "code",
   "execution_count": 18,
   "id": "763b4539",
   "metadata": {},
   "outputs": [
    {
     "name": "stdout",
     "output_type": "stream",
     "text": [
      "11 5 17 23 "
     ]
    }
   ],
   "source": [
    "def odd_number_list(lst):\n",
    "    for num in lst:\n",
    "        if num%2!=0:\n",
    "            print(num,end=\" \")\n",
    "lst = [11, 5, 17, 18, 23]\n",
    "odd_number_list(lst)"
   ]
  },
  {
   "cell_type": "markdown",
   "id": "40783e2a",
   "metadata": {},
   "source": [
    "<b>Number 9 - \n",
    "- Question -\n",
    "    \n",
    "> Write a Python program to Remove empty List from List?\n",
    "\n",
    "- Answer -\n",
    "    \n",
    ">\n",
    "\n"
   ]
  },
  {
   "cell_type": "code",
   "execution_count": 19,
   "id": "15b48cf9",
   "metadata": {},
   "outputs": [
    {
     "name": "stdout",
     "output_type": "stream",
     "text": [
      "The original list is : [5, 6, [], 3, [], [], 9]\n",
      "List after empty list removal : [5, 6, 3, 9]\n"
     ]
    }
   ],
   "source": [
    "test_list = [5, 6, [], 3, [], [], 9]\n",
    "print(\"The original list is : \" + str(test_list))\n",
    "res = list(filter(None, test_list))\n",
    "print (\"List after empty list removal : \" + str(res))"
   ]
  },
  {
   "cell_type": "markdown",
   "id": "03f196f5",
   "metadata": {},
   "source": [
    "<b>Number 10 - \n",
    "- Question -\n",
    "    \n",
    "> Write a Python program to Cloning or Copying a list?\n",
    "\n",
    "- Answer -\n",
    "    \n",
    ">\n",
    "\n",
    "    \n"
   ]
  },
  {
   "cell_type": "code",
   "execution_count": 21,
   "id": "343e8b77",
   "metadata": {},
   "outputs": [
    {
     "name": "stdout",
     "output_type": "stream",
     "text": [
      "Enter number of elements : 4\n",
      "11\n",
      "13\n",
      "15\n",
      "16\n",
      "Original List: [11, 13, 15, 16]\n",
      "After Cloning: [11, 13, 15, 16]\n"
     ]
    }
   ],
   "source": [
    "def Cloning(li1):\n",
    "    li_copy = li1[:]\n",
    "    return li_copy\n",
    "  \n",
    "\n",
    "li1 = []\n",
    "n8 = int(input(\"Enter number of elements : \"))\n",
    "for i in range(0, n8):\n",
    "    ele8 = int(input())\n",
    "    li1.append(ele8)\n",
    "li2 = Cloning(li1)\n",
    "print(\"Original List:\", li1)\n",
    "print(\"After Cloning:\", li2)"
   ]
  },
  {
   "cell_type": "markdown",
   "id": "168060d3",
   "metadata": {},
   "source": [
    "<b>Number 11 - \n",
    "- Question -\n",
    "    \n",
    "> Write a Python program to Count occurrences of an element in a list?\n",
    "\n",
    "- Answer -\n",
    "    \n",
    ">\n",
    "\n"
   ]
  },
  {
   "cell_type": "code",
   "execution_count": 22,
   "id": "b78da0b0",
   "metadata": {},
   "outputs": [
    {
     "name": "stdout",
     "output_type": "stream",
     "text": [
      "Enter number of elements : 5\n",
      "1\n",
      "3\n",
      "4\n",
      "7\n",
      "6\n",
      "Enter the number to see its count in the list: 4\n",
      "4 has occurred 1 times\n"
     ]
    }
   ],
   "source": [
    "def countX(lst8, x):\n",
    "    count = 0\n",
    "    for item in lst8:\n",
    "        if (item == x):\n",
    "            count = count + 1\n",
    "    return count\n",
    "lst8 = []\n",
    "n9 = int(input(\"Enter number of elements : \"))\n",
    "for i in range(0, n9):\n",
    "    ele9 = int(input())\n",
    "    lst8.append(ele9)\n",
    "x = int(input(\"Enter the number to see its count in the list: \"))\n",
    "print('{} has occurred {} times'.format(x, countX(lst8, x)))"
   ]
  }
 ],
 "metadata": {
  "kernelspec": {
   "display_name": "Python 3 (ipykernel)",
   "language": "python",
   "name": "python3"
  },
  "language_info": {
   "codemirror_mode": {
    "name": "ipython",
    "version": 3
   },
   "file_extension": ".py",
   "mimetype": "text/x-python",
   "name": "python",
   "nbconvert_exporter": "python",
   "pygments_lexer": "ipython3",
   "version": "3.10.4"
  },
  "toc": {
   "base_numbering": 1,
   "nav_menu": {},
   "number_sections": true,
   "sideBar": true,
   "skip_h1_title": false,
   "title_cell": "Table of Contents",
   "title_sidebar": "Contents",
   "toc_cell": false,
   "toc_position": {},
   "toc_section_display": true,
   "toc_window_display": false
  }
 },
 "nbformat": 4,
 "nbformat_minor": 5
}
