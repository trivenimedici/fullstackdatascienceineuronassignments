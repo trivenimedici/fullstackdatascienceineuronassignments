{
 "cells": [
  {
   "cell_type": "markdown",
   "id": "liberal-account",
   "metadata": {},
   "source": [
    "<b>Number 1 - \n",
    "- Question -\n",
    "    \n",
    "> Write a Python program to find words which are greater than given length k?\n",
    "\n",
    "- Answer -\n",
    "    \n",
    ">"
   ]
  },
  {
   "cell_type": "code",
   "execution_count": 4,
   "id": "ded0f1e9",
   "metadata": {},
   "outputs": [
    {
     "data": {
      "text/plain": [
       "['greater', 'string']"
      ]
     },
     "execution_count": 4,
     "metadata": {},
     "output_type": "execute_result"
    }
   ],
   "source": [
    "def greater_than_k(k,str):\n",
    "    string = []\n",
    "    text = str.split(\" \")\n",
    "    for x in text:\n",
    "        if len(x) > k:\n",
    "            string.append(x)\n",
    "    return string\n",
    "k = 4\n",
    "str =\"test for greater string\"\n",
    "greater_than_k(k,str)"
   ]
  },
  {
   "cell_type": "markdown",
   "id": "sharing-council",
   "metadata": {},
   "source": [
    "<b>Number 2 - \n",
    "- Question -\n",
    "    \n",
    "> Write a Python program for removing i-th character from a string?\n",
    "\n",
    "- Answer -\n",
    "    \n",
    "> "
   ]
  },
  {
   "cell_type": "code",
   "execution_count": 8,
   "id": "a074fa43",
   "metadata": {},
   "outputs": [
    {
     "data": {
      "text/plain": [
       "'testFrRemovalString'"
      ]
     },
     "execution_count": 8,
     "metadata": {},
     "output_type": "execute_result"
    }
   ],
   "source": [
    "def remove_character(str, i):\n",
    "    a = str[ : i] \n",
    "    b = str[i + 1: ]\n",
    "    return a + b\n",
    "\n",
    "str = \"testForRemovalString\"\n",
    "i = 5\n",
    "remove_character(str, i)"
   ]
  },
  {
   "cell_type": "markdown",
   "id": "acute-talent",
   "metadata": {},
   "source": [
    "<b>Number 3 - \n",
    "- Question -\n",
    "    \n",
    "> Write a Python program to split and join a string?\n",
    "\n",
    "- Answer -\n",
    "    \n",
    ">\n"
   ]
  },
  {
   "cell_type": "code",
   "execution_count": 14,
   "id": "c837a88b",
   "metadata": {},
   "outputs": [
    {
     "name": "stdout",
     "output_type": "stream",
     "text": [
      "abbbbabbbbabbbba\n"
     ]
    },
    {
     "data": {
      "text/plain": [
       "['testfcx', 'or', 'split']"
      ]
     },
     "execution_count": 14,
     "metadata": {},
     "output_type": "execute_result"
    }
   ],
   "source": [
    "def split_string(str):\n",
    "    return str.split()  #split by space\n",
    "\n",
    "\n",
    "def join_string(str1,str2):\n",
    "    nstr= str2.join(str1)\n",
    "    print(nstr) \n",
    "\n",
    "\n",
    "str='testfcx or split'\n",
    "str1='aaaa'\n",
    "str2='bbbb'\n",
    "join_string(str1,str2)\n",
    "split_string(str)"
   ]
  },
  {
   "cell_type": "markdown",
   "id": "outdoor-setup",
   "metadata": {},
   "source": [
    "<b>Number 4 - \n",
    "- Question -\n",
    "    \n",
    "> Write a Python to check if a given string is binary string or not?\n",
    "\n",
    "- Answer -\n",
    "    \n",
    ">\n"
   ]
  },
  {
   "cell_type": "code",
   "execution_count": 25,
   "id": "c61826c6",
   "metadata": {},
   "outputs": [
    {
     "name": "stdout",
     "output_type": "stream",
     "text": [
      "The String is not a binary string\n"
     ]
    }
   ],
   "source": [
    "def binary_string(str):\n",
    "    flag = True\n",
    "    for char in str :\n",
    "        if(char == '0' or char == '1'):\n",
    "            continue \n",
    "        else :\n",
    "            flag = False\n",
    "            print(\"The String is not a binary string\")\n",
    "            break\n",
    "    if(flag):\n",
    "        print(\"The String is binary string\")\n",
    "            \n",
    "            \n",
    "binary_string(\"gfldkjgdlk\")"
   ]
  },
  {
   "cell_type": "markdown",
   "id": "caring-viewer",
   "metadata": {},
   "source": [
    "<b>Number 5 - \n",
    "- Question -\n",
    "    \n",
    "> Write a Python program to find uncommon words from two Strings?\n",
    "\n",
    "- Answer -\n",
    "    \n",
    ">\n"
   ]
  },
  {
   "cell_type": "code",
   "execution_count": 31,
   "id": "f72a9140",
   "metadata": {},
   "outputs": [
    {
     "data": {
      "text/plain": [
       "['string1', 'for', 'string2']"
      ]
     },
     "execution_count": 31,
     "metadata": {},
     "output_type": "execute_result"
    }
   ],
   "source": [
    "def uncommon_words(str1,str2):\n",
    "    count={}\n",
    "    for word in str1.split():\n",
    "        count[word] = count.get(word, 0) + 1\n",
    "    for word in str2.split():\n",
    "        count[word] = count.get(word, 0) + 1\n",
    "    return [word for word in count if count[word] == 1]\n",
    "\n",
    "uncommon_words(\"test  string1\",\"test for string2\")\n",
    "            "
   ]
  },
  {
   "cell_type": "markdown",
   "id": "be458a27",
   "metadata": {},
   "source": [
    "<b>Number 6 - \n",
    "- Question -\n",
    "    \n",
    "> Write a Python to find all duplicate characters in string?\n",
    "\n",
    "- Answer -\n",
    "    \n",
    ">\n"
   ]
  },
  {
   "cell_type": "code",
   "execution_count": 33,
   "id": "ee881978",
   "metadata": {},
   "outputs": [
    {
     "name": "stdout",
     "output_type": "stream",
     "text": [
      "k f j d s "
     ]
    }
   ],
   "source": [
    "def duplicate_characters(str):\n",
    "    duplicates={}\n",
    "    for c in str:\n",
    "        if c in duplicates:\n",
    "            duplicates[c] += 1\n",
    "        else :\n",
    "            duplicates[c] = 1\n",
    "            \n",
    "    for key, value in duplicates.items():\n",
    "        if value > 1:\n",
    "            print(key, end = \" \")\n",
    "duplicate_characters(\"kfjdskjfdsjfds\")\n",
    "            "
   ]
  },
  {
   "cell_type": "markdown",
   "id": "ab971a2d",
   "metadata": {},
   "source": [
    "<b>Number 7 - \n",
    "- Question -\n",
    "    \n",
    "> Write a Python Program to check if a string contains any special character?\n",
    "\n",
    "- Answer -\n",
    "    \n",
    ">\n"
   ]
  },
  {
   "cell_type": "code",
   "execution_count": 40,
   "id": "ec767add",
   "metadata": {},
   "outputs": [
    {
     "name": "stdout",
     "output_type": "stream",
     "text": [
      "String has special characters.\n",
      "String doesn't have special characters\n"
     ]
    }
   ],
   "source": [
    "import re\n",
    "def special_characters(str):\n",
    "    regex = re.compile('[@_!#$%^&*()<>?/\\|}{~:]')\n",
    "    if(regex.search(str) == None):\n",
    "        print(\"String doesn't have special characters\")     \n",
    "    else:\n",
    "        print(\"String has special characters.\")\n",
    "special_characters(\"$$#)(#(%))\")\n",
    "special_characters(\"gkjdfgkjdfh\")"
   ]
  }
 ],
 "metadata": {
  "kernelspec": {
   "display_name": "Python 3 (ipykernel)",
   "language": "python",
   "name": "python3"
  },
  "language_info": {
   "codemirror_mode": {
    "name": "ipython",
    "version": 3
   },
   "file_extension": ".py",
   "mimetype": "text/x-python",
   "name": "python",
   "nbconvert_exporter": "python",
   "pygments_lexer": "ipython3",
   "version": "3.10.4"
  },
  "toc": {
   "base_numbering": 1,
   "nav_menu": {},
   "number_sections": true,
   "sideBar": true,
   "skip_h1_title": false,
   "title_cell": "Table of Contents",
   "title_sidebar": "Contents",
   "toc_cell": false,
   "toc_position": {},
   "toc_section_display": true,
   "toc_window_display": false
  }
 },
 "nbformat": 4,
 "nbformat_minor": 5
}
