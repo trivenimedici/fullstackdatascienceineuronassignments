{
 "cells": [
  {
   "cell_type": "markdown",
   "id": "dc0fcaf3",
   "metadata": {},
   "source": [
    "Q1. What are the two latest user-defined exception constraints in Python 3.X?"
   ]
  },
  {
   "cell_type": "markdown",
   "id": "9cbd579d",
   "metadata": {},
   "source": [
    "Exception should be derived from exception class either directly or indirectly\n",
    "It only offers number of attributes that allow information about error to be extracted by handler for the exception"
   ]
  },
  {
   "cell_type": "markdown",
   "id": "cc7282c1",
   "metadata": {},
   "source": [
    "Q2. How are class-based exceptions that have been raised matched to handlers?"
   ]
  },
  {
   "cell_type": "markdown",
   "id": "493ea534",
   "metadata": {},
   "source": [
    "class based exception are defined by exception classes, from which an exception object can be created when an exception is raised\n",
    "A class-based exception can either cancel the current context or allow for a resume.\n",
    "Exceptions are raised using the statement RAISE EXCEPTION and handled using CATCH in a TRY control structure. Class-based exceptions can be raised in any procedures and can be further propagated by any procedures."
   ]
  },
  {
   "cell_type": "markdown",
   "id": "8d8dc1af",
   "metadata": {},
   "source": [
    "Q3. Describe two methods for attaching context information to exception artefacts."
   ]
  },
  {
   "cell_type": "markdown",
   "id": "72dd0a57",
   "metadata": {},
   "source": [
    "__traceback__ , __cause__"
   ]
  },
  {
   "cell_type": "markdown",
   "id": "fcbf32a4",
   "metadata": {},
   "source": [
    "Q4. Describe two methods for specifying the text of an exception object's error message."
   ]
  },
  {
   "cell_type": "code",
   "execution_count": null,
   "id": "58ec23da",
   "metadata": {},
   "outputs": [],
   "source": [
    "#method 1\n",
    "\n",
    "\n",
    "try:\n",
    "    raise Exception \n",
    "except Exception as e:\n",
    "    print(getattr(e, 'message', repr(e)))\n",
    "    \n",
    "#method 2\n",
    "\n",
    "try:\n",
    "    pass\n",
    "    log.info('Success')\n",
    "except:\n",
    "    log.exception('Failed')"
   ]
  },
  {
   "cell_type": "markdown",
   "id": "34b96297",
   "metadata": {},
   "source": [
    "Q5. Why do you no longer use string-based exceptions?"
   ]
  },
  {
   "cell_type": "code",
   "execution_count": null,
   "id": "4e77a26f",
   "metadata": {},
   "outputs": [],
   "source": [
    "Because a string is a sequence, we must assume that error messages are always more than two characters long"
   ]
  }
 ],
 "metadata": {
  "kernelspec": {
   "display_name": "Python 3 (ipykernel)",
   "language": "python",
   "name": "python3"
  },
  "language_info": {
   "codemirror_mode": {
    "name": "ipython",
    "version": 3
   },
   "file_extension": ".py",
   "mimetype": "text/x-python",
   "name": "python",
   "nbconvert_exporter": "python",
   "pygments_lexer": "ipython3",
   "version": "3.9.12"
  }
 },
 "nbformat": 4,
 "nbformat_minor": 5
}
