{
 "cells": [
  {
   "cell_type": "markdown",
   "id": "f976b7c7",
   "metadata": {},
   "source": [
    "Write a function that takes a positive integer num and calculates how many dots exist in a pentagonal shape around the center dot on the Nth iteration.\n",
    "\n",
    "In the image below you can see the first iteration is only a single dot. On the second, there are 6 dots. On the third, there are 16 dots, and on the fourth there are 31 dots.\n",
    "\n",
    "\n",
    "Write a function that takes a positive integer num and calculates how many dots exist in a pentagonal shape around the center dot on the Nth iteration.\n",
    "\n",
    "In the image below you can see the first iteration is only a single dot. On the second, there are 6 dots. On the third, there are 16 dots, and on the fourth there are 31 dots.\n"
   ]
  },
  {
   "cell_type": "code",
   "execution_count": 26,
   "id": "a83bde3e",
   "metadata": {},
   "outputs": [
    {
     "data": {
      "text/plain": [
       "141"
      ]
     },
     "execution_count": 26,
     "metadata": {},
     "output_type": "execute_result"
    }
   ],
   "source": [
    "def pentagonal(n):\n",
    "    if n==1:\n",
    "        return 1\n",
    "    elif n<0:\n",
    "        return \"invalid number\"\n",
    "    elif n>1:\n",
    "        count=0\n",
    "        for i in range(1,n):\n",
    "            count=5*i+count\n",
    "        return count+1\n",
    "pentagonal(8)        "
   ]
  },
  {
   "cell_type": "markdown",
   "id": "301f3909",
   "metadata": {},
   "source": [
    "2.  Make a function that encrypts a given input with these steps:\n",
    "\n",
    "Input: \"apple\"\n",
    "\n",
    "Step 1: Reverse the input: \"elppa\"\n",
    "\n",
    "Step 2: Replace all vowels using the following chart:\n",
    "\n",
    "a => 0\n",
    "e => 1\n",
    "i => 2\n",
    "o => 2\n",
    "u => 3\n",
    "\n",
    "# \"1lpp0\"\n",
    "\n",
    "Step 3: Add \"aca\" to the end of the word: \"1lpp0aca\"\n",
    "\n",
    "Output: \"1lpp0aca\"\n"
   ]
  },
  {
   "cell_type": "code",
   "execution_count": 27,
   "id": "40515100",
   "metadata": {},
   "outputs": [
    {
     "data": {
      "text/plain": [
       "'1lpp0aca'"
      ]
     },
     "execution_count": 27,
     "metadata": {},
     "output_type": "execute_result"
    }
   ],
   "source": [
    "def encrypt(str):\n",
    "    rev=str[::-1]\n",
    "    dict = {\"a\": \"0\", \"e\": \"1\",\"i\": \"2\", \"o\": \"2\",\"u\": \"3\"}\n",
    "    for i in dict:\n",
    "        rev=rev.replace(i,dict[i])\n",
    "    return rev+'aca'\n",
    "            \n",
    "encrypt(\"apple\")"
   ]
  },
  {
   "cell_type": "markdown",
   "id": "239a2526",
   "metadata": {},
   "source": [
    "Given the month and year as numbers, return whether that month contains a Friday 13th.(i.e You can check Python's datetime module)\n",
    "\n",
    "Examples\n",
    "\n",
    "has_friday_13(3, 2020) ➞ True\n",
    "\n",
    "has_friday_13(10, 2017) ➞ True\n",
    "\n",
    "has_friday_13(1, 1985) ➞ False\n"
   ]
  },
  {
   "cell_type": "code",
   "execution_count": 32,
   "id": "948b086a",
   "metadata": {},
   "outputs": [
    {
     "data": {
      "text/plain": [
       "False"
      ]
     },
     "execution_count": 32,
     "metadata": {},
     "output_type": "execute_result"
    }
   ],
   "source": [
    "import datetime\n",
    "from datetime import datetime\n",
    "import calendar\n",
    "def has_friday_13(month,year):\n",
    "    date = f'{month} 13 {year}'.format()\n",
    "    spooky = datetime.strptime(date, '%m %d %Y').weekday()\n",
    "    return (calendar.day_name[spooky]) == \"Friday\"\n",
    "\n",
    "has_friday_13(3,2020)\n",
    "has_friday_13(10, 2017) \n",
    "has_friday_13(1, 1985) "
   ]
  },
  {
   "cell_type": "markdown",
   "id": "dd43bb4f",
   "metadata": {},
   "source": [
    "4. Write a regular expression that will help us count how many bad cookies are produced every day. You must use RegEx negative lookbehind.\n",
    "\n",
    "Example\n",
    "\n",
    "lst = [\"bad cookie\", \"good cookie\", \"bad cookie\", \"good cookie\", \"good cookie\"]\n",
    "pattern = \"yourregularexpressionhere\"\n",
    "\n",
    "len(re.findall(pattern, \", \".join(lst))) ➞ 2\n",
    "\n"
   ]
  },
  {
   "cell_type": "code",
   "execution_count": 56,
   "id": "e701529c",
   "metadata": {},
   "outputs": [
    {
     "data": {
      "text/plain": [
       "2"
      ]
     },
     "execution_count": 56,
     "metadata": {},
     "output_type": "execute_result"
    }
   ],
   "source": [
    "import re\n",
    "lst = [\"bad cookie\", \"good cookie\", \"bad cookie\", \"good cookie\", \"good cookie\"]\n",
    "len(re.findall(r\"bad cookie\", \", \".join(lst))) \n"
   ]
  },
  {
   "cell_type": "markdown",
   "id": "df11c86c",
   "metadata": {},
   "source": [
    "5. Given a list of words in the singular form, return a set of those words in the plural form if they appear more than once in the list.\n",
    "\n"
   ]
  },
  {
   "cell_type": "code",
   "execution_count": 66,
   "id": "ff0e2d81",
   "metadata": {},
   "outputs": [
    {
     "data": {
      "text/plain": [
       "['chair', 'pencil', 'arm']"
      ]
     },
     "execution_count": 66,
     "metadata": {},
     "output_type": "execute_result"
    }
   ],
   "source": [
    "def pluralize(lst):\n",
    "    dic={}\n",
    "    res=[]\n",
    "    for i in lst:\n",
    "        if i in dic.keys():\n",
    "            dic[i]+=1\n",
    "        else:\n",
    "            dic[i]=1\n",
    "    for i in dic.keys():\n",
    "        if dic[i]>1:\n",
    "            res.append(i+'s')\n",
    "        else:\n",
    "            res.append(i)\n",
    "    return res\n",
    "            \n",
    "            \n",
    "        \n",
    "pluralize([\"chair\", \"pencil\", \"arm\"])"
   ]
  },
  {
   "cell_type": "code",
   "execution_count": 67,
   "id": "099bda70",
   "metadata": {},
   "outputs": [
    {
     "data": {
      "text/plain": [
       "['tables']"
      ]
     },
     "execution_count": 67,
     "metadata": {},
     "output_type": "execute_result"
    }
   ],
   "source": [
    "pluralize([\"table\", \"table\", \"table\"]) "
   ]
  }
 ],
 "metadata": {
  "kernelspec": {
   "display_name": "Python 3 (ipykernel)",
   "language": "python",
   "name": "python3"
  },
  "language_info": {
   "codemirror_mode": {
    "name": "ipython",
    "version": 3
   },
   "file_extension": ".py",
   "mimetype": "text/x-python",
   "name": "python",
   "nbconvert_exporter": "python",
   "pygments_lexer": "ipython3",
   "version": "3.9.12"
  }
 },
 "nbformat": 4,
 "nbformat_minor": 5
}
